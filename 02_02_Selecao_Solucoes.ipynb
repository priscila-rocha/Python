{
 "cells": [
  {
   "cell_type": "markdown",
   "metadata": {},
   "source": [
    "## Redução de Dimensionalidade e Seleção de atributos\n",
    "\n",
    "Foi visto anteriormente sobre a redução de dimensionalidade, onde algoritmos não-supervisionados (como o PCA) são capazes de condensar informações em um número menor de dimensão. No entanto, uma confusão que normalmente acontece com as terminologias, é a distinção entre selecionar atributos e reduzir dimensionalidade. Obviamente que a seleção de atributos acarretará em um número menor de dimensões, mas diferente da redução de dimensionalidade, a seleção de atributos descarta atributos que não são julgados como relevante para o problema, enquanto a redução condensa a informação em um espaço com menos dimensões.\n",
    "\n",
    "---\n",
    "\n",
    "Será utilizado o dataset digits conhecido no meio de aprendizado de máquina, importado diretamente do Scikit-Learn. Em seguida, serão aplicados PCA e seleção de atributos para analisar a diferença entre eles."
   ]
  },
  {
   "cell_type": "code",
   "execution_count": 1,
   "metadata": {},
   "outputs": [],
   "source": [
    "from sklearn.decomposition import PCA\n",
    "from sklearn import datasets\n",
    "\n",
    "digits = datasets.load_digits()\n",
    "X = digits.data\n",
    "y = digits.target"
   ]
  },
  {
   "cell_type": "code",
   "execution_count": 3,
   "metadata": {},
   "outputs": [
    {
     "data": {
      "text/plain": [
       "<Figure size 432x288 with 0 Axes>"
      ]
     },
     "metadata": {},
     "output_type": "display_data"
    },
    {
     "data": {
      "image/png": "[encoded data removed]",
      "text/plain": [
       "<Figure size 288x288 with 1 Axes>"
      ]
     },
     "metadata": {
      "needs_background": "light"
     },
     "output_type": "display_data"
    },
    {
     "name": "stdout",
     "output_type": "stream",
     "text": [
      "5\n"
     ]
    }
   ],
   "source": [
    "import matplotlib.pyplot as plt \n",
    "plt.gray()\n",
    "plt.matshow(digits.images[25]) \n",
    "plt.show()\n",
    "print(digits.target[25])"
   ]
  },
  {
   "cell_type": "markdown",
   "metadata": {},
   "source": [
    "A função PCA importada de dentro do scikit-learn depende basicamente do atributo n_components. Esse atributo pode ser especificado como um inteiro, onde descreverá o número de componentes desejado, ou um valor contínuo entre 0 e 1, indicando o percentual de variância que deseja ser mantido no resultado final. O parâmetro whiten realiza uma operação matemática no sinal dos vetores extraídos no processo do PCA, e pode melhorar o resultado."
   ]
  },
  {
   "cell_type": "code",
   "execution_count": null,
   "metadata": {},
   "outputs": [],
   "source": []
  },
  {
   "cell_type": "code",
   "execution_count": 28,
   "metadata": {
    "scrolled": true
   },
   "outputs": [
    {
     "name": "stdout",
     "output_type": "stream",
     "text": [
      "Número original de atributos: 64\n",
      "Número reduzido de atributos: 49\n"
     ]
    }
   ],
   "source": [
    "pca = PCA(n_components=0.999, whiten=True)\n",
    "\n",
    "X_pca = pca.fit_transform(X)\n",
    "\n",
    "print('Número original de atributos:', X.shape[1])\n",
    "print('Número reduzido de atributos:', X_pca.shape[1])"
   ]
  },
  {
   "cell_type": "code",
   "execution_count": 29,
   "metadata": {},
   "outputs": [
    {
     "data": {
      "text/plain": [
       "array([179.0069301 , 163.71774688, 141.78843909, 101.1003752 ,\n",
       "        69.51316559,  59.10852489,  51.88453911,  44.01510667,\n",
       "        40.31099529,  37.0117984 ,  28.51904118,  27.32116981,\n",
       "        21.90148814,  21.32435654,  17.63672222,  16.94686385,\n",
       "        15.85138991,  15.00446022,  12.23447318,  10.88685932,\n",
       "        10.69356625,   9.58259779,   9.2264026 ,   8.69036872,\n",
       "         8.3656119 ,   7.16577961,   6.91973881,   6.19295508,\n",
       "         5.88499123,   5.1558669 ,   4.49129656,   4.24687799,\n",
       "         4.04743883,   3.94340334,   3.70647245,   3.53165306,\n",
       "         3.08457409,   2.73780002,   2.67210896,   2.54170563,\n",
       "         2.28298744,   1.90724229,   1.81716569,   1.68996439,\n",
       "         1.4019722 ,   1.29221888,   1.15893419,   0.93122001,\n",
       "         0.66985059])"
      ]
     },
     "execution_count": 29,
     "metadata": {},
     "output_type": "execute_result"
    }
   ],
   "source": [
    "pca.explained_variance_"
   ]
  },
  {
   "cell_type": "code",
   "execution_count": 18,
   "metadata": {},
   "outputs": [
    {
     "name": "stdout",
     "output_type": "stream",
     "text": [
      "Acurácia nos dados originais: 0.9730639730639731\n",
      "Acurácia nos dados reduzidos (PCA em tudo): 0.9629629629629629\n",
      "Acurácia nos dados originais (PCA da parte certa): 0.9612794612794613\n"
     ]
    }
   ],
   "source": [
    "from sklearn.model_selection import train_test_split\n",
    "from sklearn.linear_model import LogisticRegression\n",
    "from sklearn.metrics import accuracy_score\n",
    "\n",
    "X_train, X_test, y_train, y_test = train_test_split(X, y, test_size=0.33, random_state=42)\n",
    "\n",
    "model = LogisticRegression(solver='lbfgs', multi_class='multinomial', max_iter=2000)\n",
    "\n",
    "model.fit(X_train, y_train)\n",
    "y_pred = model.predict(X_test)\n",
    "\n",
    "print('Acurácia nos dados originais:', accuracy_score(y_test, y_pred))\n",
    "\n",
    "#######\n",
    "\n",
    "X_train, X_test, y_train, y_test = train_test_split(X_pca, y, test_size=0.33, random_state=42)\n",
    "\n",
    "model = LogisticRegression(solver='lbfgs', multi_class='multinomial', max_iter=2000)\n",
    "\n",
    "model.fit(X_train, y_train)\n",
    "y_pred = model.predict(X_test)\n",
    "\n",
    "print('Acurácia nos dados reduzidos (PCA em tudo):', accuracy_score(y_test, y_pred))\n",
    "\n",
    "#######\n",
    "\n",
    "X_train, X_test, y_train, y_test = train_test_split(X, y, test_size=0.33, random_state=42)\n",
    "\n",
    "pca = PCA(n_components=0.95, whiten=True)\n",
    "X_train = pca.fit_transform(X_train)\n",
    "X_test = pca.transform(X_test)\n",
    "\n",
    "model = LogisticRegression(solver='lbfgs', multi_class='multinomial', max_iter=2000)\n",
    "\n",
    "model.fit(X_train, y_train)\n",
    "y_pred = model.predict(X_test)\n",
    "\n",
    "print('Acurácia nos dados originais (PCA da parte certa):', accuracy_score(y_test, y_pred))"
   ]
  },
  {
   "cell_type": "code",
   "execution_count": 7,
   "metadata": {},
   "outputs": [
    {
     "name": "stdout",
     "output_type": "stream",
     "text": [
      "array([[ 0.,  0.,  5., ...,  0.,  0.,  0.],\n",
      "       [ 0.,  0.,  0., ..., 10.,  0.,  0.],\n",
      "       [ 0.,  0.,  0., ..., 16.,  9.,  0.],\n",
      "       ...,\n",
      "       [ 0.,  0.,  1., ...,  6.,  0.,  0.],\n",
      "       [ 0.,  0.,  2., ..., 12.,  0.,  0.],\n",
      "       [ 0.,  0., 10., ..., 12.,  1.,  0.]])\n"
     ]
    }
   ],
   "source": [
    "import pprint\n",
    "\n",
    "pprint.pprint(X)"
   ]
  },
  {
   "cell_type": "code",
   "execution_count": 8,
   "metadata": {},
   "outputs": [
    {
     "name": "stdout",
     "output_type": "stream",
     "text": [
      "array([[-0.09413512,  1.66272073, -0.79471413, ...,  1.39542511,\n",
      "        -0.37920205, -0.46683784],\n",
      "       [ 0.59476828, -1.6231603 ,  0.37283291, ...,  0.8297226 ,\n",
      "        -0.20502869,  0.95368689],\n",
      "       [ 0.52259074, -0.77810179,  0.24846184, ...,  1.60758693,\n",
      "         0.86702875,  0.3454214 ],\n",
      "       ...,\n",
      "       [ 0.80731022, -0.54397269,  0.47025462, ..., -1.35662732,\n",
      "         0.73313116,  1.45878179],\n",
      "       [-0.36415081,  0.97098371, -0.85415667, ...,  1.23674264,\n",
      "         0.38369172, -0.3870547 ],\n",
      "       [-0.02574039,  0.49749417,  0.90478379, ..., -1.14667241,\n",
      "         0.52139579,  1.06686304]])\n"
     ]
    }
   ],
   "source": [
    "pprint.pprint(X_pca)"
   ]
  },
  {
   "cell_type": "markdown",
   "metadata": {},
   "source": [
    "### Seleção de atributos\n",
    "\n",
    "A seleção de atributos não é um processo não-supervisionado, igual a redução de dimensionalidade. É feita uma análise diretamente relacionada com o rótulo da amostra, portanto é supervisionado. Uma das estratégias mais comuns de seleção de atributos é teste de valor ANOVA. Esse teste identifica se existe algum valor significamente diferente da relação entre atributo e rótulo. Os atributos que são muito diferentes nessa relação, podem ser descartados.\n",
    "\n",
    "Lembrando sempre de não dar informações do teste para a seleção de atributos, para não virar um tipo de trapaça."
   ]
  },
  {
   "cell_type": "code",
   "execution_count": 19,
   "metadata": {},
   "outputs": [
    {
     "name": "stdout",
     "output_type": "stream",
     "text": [
      "Número original de atributos: 64\n",
      "Número reduzido de atributos: 29\n",
      "[2, 5, 10, 13, 18, 19, 20, 21, 26, 27, 28, 29, 30, 33, 34, 35, 36, 38, 42, 43, 44, 46, 50, 53, 54, 58, 60, 61, 62]\n"
     ]
    },
    {
     "data": {
      "image/png": "[encoded data removed]",
      "text/plain": [
       "<Figure size 288x288 with 1 Axes>"
      ]
     },
     "metadata": {
      "needs_background": "light"
     },
     "output_type": "display_data"
    },
    {
     "name": "stdout",
     "output_type": "stream",
     "text": [
      "Acurácia nos dados originais: 0.9730639730639731\n",
      "Acurácia nos dados Kbest: 0.9444444444444444\n"
     ]
    }
   ],
   "source": [
    "from sklearn.preprocessing import StandardScaler\n",
    "from sklearn.feature_selection import SelectKBest\n",
    "from sklearn.feature_selection import f_classif\n",
    "import numpy as np\n",
    "\n",
    "import warnings\n",
    "warnings.filterwarnings(\"ignore\")\n",
    "\n",
    "X_train, X_test, y_train, y_test = train_test_split(X, y, test_size=0.33, random_state=42)\n",
    "\n",
    "fvalue_selector = SelectKBest(f_classif, k=29)\n",
    "X_kbest = fvalue_selector.fit_transform(X_train, y_train)\n",
    "\n",
    "print('Número original de atributos:', X.shape[1])\n",
    "print('Número reduzido de atributos:', X_kbest.shape[1])\n",
    "\n",
    "###\n",
    "\n",
    "selected_features = []\n",
    "map_vector = []\n",
    "mask = fvalue_selector.get_support()\n",
    "for m, feature in zip(mask, list(range(64))):\n",
    "    if m:\n",
    "        selected_features.append(feature)\n",
    "        map_vector.append(1)\n",
    "    else:\n",
    "        map_vector.append(0)\n",
    "\n",
    "print(selected_features)\n",
    "\n",
    "map_vector = np.asarray(map_vector)\n",
    "\n",
    "plt.matshow(map_vector.reshape(8,8)) \n",
    "plt.show()\n",
    "\n",
    "###\n",
    "\n",
    "model = LogisticRegression(solver='lbfgs', multi_class='multinomial', max_iter=2000)\n",
    "model.fit(X_train, y_train)\n",
    "y_pred = model.predict(X_test)\n",
    "print('Acurácia nos dados originais:', accuracy_score(y_test, y_pred))\n",
    "\n",
    "model = LogisticRegression(solver='lbfgs', multi_class='multinomial', max_iter=2000)\n",
    "model.fit(X_kbest, y_train)\n",
    "X_test_kbest = fvalue_selector.transform(X_test)\n",
    "y_pred = model.predict(X_test_kbest)\n",
    "print('Acurácia nos dados Kbest:', accuracy_score(y_test, y_pred))"
   ]
  },
  {
   "cell_type": "code",
   "execution_count": 15,
   "metadata": {},
   "outputs": [
    {
     "name": "stdout",
     "output_type": "stream",
     "text": [
      "array([[ 0.,  0., 16., ...,  0., 15., 13.],\n",
      "       [ 1.,  0.,  7., ...,  1., 16.,  7.],\n",
      "       [12., 16., 15., ..., 13., 10.,  0.],\n",
      "       ...,\n",
      "       [ 9., 12., 16., ...,  9., 16., 16.],\n",
      "       [ 1.,  8., 14., ...,  1.,  7.,  0.],\n",
      "       [ 1.,  1.,  4., ...,  2., 13.,  1.]])\n"
     ]
    }
   ],
   "source": [
    "pprint.pprint(X_kbest)"
   ]
  },
  {
   "cell_type": "code",
   "execution_count": 16,
   "metadata": {},
   "outputs": [
    {
     "name": "stdout",
     "output_type": "stream",
     "text": [
      "array([[ 0.,  0.,  5., ...,  0.,  0.,  0.],\n",
      "       [ 0.,  0.,  0., ..., 10.,  0.,  0.],\n",
      "       [ 0.,  0.,  0., ..., 16.,  9.,  0.],\n",
      "       ...,\n",
      "       [ 0.,  0.,  1., ...,  6.,  0.,  0.],\n",
      "       [ 0.,  0.,  2., ..., 12.,  0.,  0.],\n",
      "       [ 0.,  0., 10., ..., 12.,  1.,  0.]])\n"
     ]
    }
   ],
   "source": [
    "pprint.pprint(X)"
   ]
  },
  {
   "cell_type": "markdown",
   "metadata": {},
   "source": [
    "Os resultados devem ser comparados entre a acurácia nos dados originais e a acurácia com a redução de dimensionalidade ou com a seleção dos atributos. Além de olhar para os resultados também é importante notar a redução de dimensionalidade, já que isso pode levar a processos mais rápidos."
   ]
  },
  {
   "cell_type": "markdown",
   "metadata": {},
   "source": [
    "## Exercícios\n",
    "\n",
    "(1) Explore as configurações do PCA, utilizando números fixos de componentes e outros valores contínuos para a variância, e verifique se é possível obter melhores resultados utilizando a regressão logística e a separação de dados da forma como está."
   ]
  },
  {
   "cell_type": "code",
   "execution_count": 14,
   "metadata": {},
   "outputs": [
    {
     "data": {
      "image/png": "[encoded data removed]",
      "text/plain": [
       "<Figure size 432x288 with 1 Axes>"
      ]
     },
     "metadata": {},
     "output_type": "display_data"
    }
   ],
   "source": [
    "v_hist = []\n",
    "acc = []\n",
    "for v in range(1,20):\n",
    "\n",
    "    X_train, X_test, y_train, y_test = train_test_split(X, y, test_size=0.33, random_state=42)\n",
    "\n",
    "    pca = PCA(n_components=v*0.05, whiten=True)\n",
    "    X_train = pca.fit_transform(X_train)\n",
    "    X_test = pca.transform(X_test)\n",
    "\n",
    "    model = LogisticRegression(solver='lbfgs', multi_class='multinomial', max_iter=2000)\n",
    "\n",
    "    model.fit(X_train, y_train)\n",
    "    y_pred = model.predict(X_test)\n",
    "    \n",
    "    v_hist.append(v*0.05)\n",
    "    acc.append(accuracy_score(y_test, y_pred))\n",
    "\n",
    "ax = sns.lineplot(x=np.array(v_hist), y=np.array(acc))"
   ]
  },
  {
   "cell_type": "markdown",
   "metadata": {},
   "source": [
    "(2) Explore o número de atributos na função KBest, variando sistematicamente, para provar que há ou não há um resultado melhor."
   ]
  },
  {
   "cell_type": "code",
   "execution_count": 15,
   "metadata": {},
   "outputs": [
    {
     "data": {
      "image/png": "[encoded data removed]",
      "text/plain": [
       "<Figure size 432x288 with 1 Axes>"
      ]
     },
     "metadata": {},
     "output_type": "display_data"
    }
   ],
   "source": [
    "k_hist = []\n",
    "acc = []\n",
    "\n",
    "for k in range(1,30):\n",
    "    \n",
    "    X_train, X_test, y_train, y_test = train_test_split(X, y, test_size=0.33, random_state=42)\n",
    "\n",
    "    fvalue_selector = SelectKBest(f_classif, k=k)\n",
    "    X_kbest = fvalue_selector.fit_transform(X_train, y_train)\n",
    "\n",
    "    model = LogisticRegression(solver='lbfgs', multi_class='multinomial', max_iter=2000)\n",
    "    model.fit(X_kbest, y_train)\n",
    "    X_test_kbest = fvalue_selector.transform(X_test)\n",
    "    y_pred = model.predict(X_test_kbest)\n",
    "    \n",
    "    k_hist.append(k)\n",
    "    acc.append(accuracy_score(y_test, y_pred))\n",
    "    \n",
    "ax = sns.lineplot(x=np.array(k_hist), y=np.array(acc))"
   ]
  },
  {
   "cell_type": "markdown",
   "metadata": {},
   "source": [
    "---\n",
    "\n",
    "**Template para plotar gráfico comparando os resultados, caso queira:**"
   ]
  },
  {
   "cell_type": "code",
   "execution_count": 12,
   "metadata": {},
   "outputs": [
    {
     "data": {
      "image/png": "[encoded data removed]",
      "text/plain": [
       "<Figure size 432x288 with 1 Axes>"
      ]
     },
     "metadata": {},
     "output_type": "display_data"
    }
   ],
   "source": [
    "import seaborn as sns; sns.set()\n",
    "import matplotlib.pyplot as plt\n",
    "import numpy as np\n",
    "\n",
    "plot_x = [1,2,3,4,5] # valores que vão no eixo X\n",
    "plot_y = [80,85,90,83,70] # valores que vão no eixo Y\n",
    "    \n",
    "ax = sns.lineplot(x=np.array(plot_x), y=np.array(plot_y))\n"
   ]
  },
  {
   "cell_type": "code",
   "execution_count": null,
   "metadata": {},
   "outputs": [],
   "source": []
  }
 ],
 "metadata": {
  "kernelspec": {
   "display_name": "Python 3",
   "language": "python",
   "name": "python3"
  },
  "language_info": {
   "codemirror_mode": {
    "name": "ipython",
    "version": 3
   },
   "file_extension": ".py",
   "mimetype": "text/x-python",
   "name": "python",
   "nbconvert_exporter": "python",
   "pygments_lexer": "ipython3",
   "version": "3.7.1"
  }
 },
 "nbformat": 4,
 "nbformat_minor": 2
}
