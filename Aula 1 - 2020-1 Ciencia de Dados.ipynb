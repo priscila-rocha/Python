{
 "cells": [
  {
   "cell_type": "code",
   "execution_count": 11,
   "metadata": {},
   "outputs": [
    {
     "name": "stdout",
     "output_type": "stream",
     "text": [
      "Média =  70.5\n",
      "Moda =  75    2\n",
      "dtype: int64\n",
      "Mediana =  73.0\n"
     ]
    }
   ],
   "source": [
    "import pandas as pd\n",
    "import numpy as np\n",
    "\n",
    "L = [52, 60, 71, 75, 75, 90]\n",
    "Lpd = pd.Series(L)\n",
    "#print(Lpd.value_counts())\n",
    "\n",
    "x = Lpd.value_counts()\n",
    "#x[x==max(x)]\n",
    "#x==max(x)\n",
    "#Lpd.median()\n",
    "\n",
    "print(\"Média = \", np.average(L))\n",
    "print(\"Moda = \", x[x==max(x)])\n",
    "print(\"Mediana = \", Lpd.median())"
   ]
  }
 ],
 "metadata": {
  "kernelspec": {
   "display_name": "Python 3",
   "language": "python",
   "name": "python3"
  },
  "language_info": {
   "codemirror_mode": {
    "name": "ipython",
    "version": 3
   },
   "file_extension": ".py",
   "mimetype": "text/x-python",
   "name": "python",
   "nbconvert_exporter": "python",
   "pygments_lexer": "ipython3",
   "version": "3.7.6"
  }
 },
 "nbformat": 4,
 "nbformat_minor": 4
}
