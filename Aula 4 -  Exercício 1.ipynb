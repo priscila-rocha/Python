{
 "cells": [
  {
   "cell_type": "markdown",
   "metadata": {},
   "source": [
    "## Aula 4 - Exercício 1"
   ]
  },
  {
   "cell_type": "markdown",
   "metadata": {},
   "source": [
    "### Considere as seguintes fórmulas:\n",
    "\n",
    "```\n",
    "f(i) = 2 -> para i = 1\n",
    "f(i) = 1 -> para i = 2\n",
    "f(i) = 2*f(i-1) + g(i-2) -> para i >= 3\n",
    "\n",
    "g(i) = 1 -> para i = 1\n",
    "g(i) = 2 -> para i = 2\n",
    "g(i) = g(i-1) + 3*f(i-2) -> para i >= 3\n",
    "```\n",
    "\n",
    "### Pede-se:\n",
    "- Escreva as funções F(n) e G(n) de acordo com as fórmulas\n",
    "- Escreva uma função K(n) que receba um inteiro n > 0 e devolva uma tupla com F(n) e G(n)\n",
    "- Para k=2, a função deve devolver os valores 1 e 2\n",
    "- Para k=3, a função deve devolver os valores 3 e 8\n",
    "- Para k=4, a função deve devolver os valores 8 e 11\n",
    "- Imprima uma lista de resultados (F(n), G(n)) para K entre 1 e 5, usando List Comprehension\n",
    "- Reescreva as funções usando lambdas"
   ]
  },
  {
   "cell_type": "code",
   "execution_count": 2,
   "metadata": {},
   "outputs": [],
   "source": [
    "def F(i):\n",
    "    if i == 1:\n",
    "        return 2\n",
    "    elif i == 2:\n",
    "        return 1\n",
    "    else:\n",
    "        f_i = 2*F(i-1) + G(i-2)\n",
    "        return f_i\n",
    "    \n",
    "def G(i):\n",
    "    if i == 1:\n",
    "        return i\n",
    "    elif i == 2:\n",
    "        return i\n",
    "    else:\n",
    "        g_i = G(i-1) + 3*F(i-2)\n",
    "        return g_i\n",
    "\n",
    "def K(i):\n",
    "    return F(i), G(i)\n"
   ]
  },
  {
   "cell_type": "code",
   "execution_count": 7,
   "metadata": {},
   "outputs": [
    {
     "name": "stdout",
     "output_type": "stream",
     "text": [
      "(1, 2)\n"
     ]
    }
   ],
   "source": [
    "print(K(2))"
   ]
  },
  {
   "cell_type": "code",
   "execution_count": 9,
   "metadata": {},
   "outputs": [
    {
     "name": "stdout",
     "output_type": "stream",
     "text": [
      "(3, 8)\n"
     ]
    }
   ],
   "source": [
    "print(K(3))"
   ]
  },
  {
   "cell_type": "code",
   "execution_count": 10,
   "metadata": {},
   "outputs": [
    {
     "name": "stdout",
     "output_type": "stream",
     "text": [
      "(8, 11)\n"
     ]
    }
   ],
   "source": [
    "print(K(4))"
   ]
  },
  {
   "cell_type": "code",
   "execution_count": 4,
   "metadata": {},
   "outputs": [
    {
     "name": "stdout",
     "output_type": "stream",
     "text": [
      "[(2, 1), (1, 2), (3, 8), (8, 11), (24, 20)]\n"
     ]
    }
   ],
   "source": [
    "ListComprehension = [K(i) for i in range(1,6)]\n",
    "print(ListComprehension)"
   ]
  },
  {
   "cell_type": "code",
   "execution_count": 11,
   "metadata": {},
   "outputs": [
    {
     "name": "stdout",
     "output_type": "stream",
     "text": [
      "(1, 2)\n",
      "(3, 8)\n",
      "(8, 11)\n"
     ]
    }
   ],
   "source": [
    "F = lambda i: 2 if i==1 else (1 if i==2 else 2*F(i-1) + G(i-2))\n",
    "G = lambda i: i if (i==1 or i==2) else G(i-1) + 3*F(i-2)\n",
    "K = lambda i: (F(i), G(i))\n",
    "\n",
    "print(K(2))\n",
    "print(K(3))\n",
    "print(K(4))"
   ]
  }
 ],
 "metadata": {
  "kernelspec": {
   "display_name": "Python 3",
   "language": "python",
   "name": "python3"
  },
  "language_info": {
   "codemirror_mode": {
    "name": "ipython",
    "version": 3
   },
   "file_extension": ".py",
   "mimetype": "text/x-python",
   "name": "python",
   "nbconvert_exporter": "python",
   "pygments_lexer": "ipython3",
   "version": "3.7.6"
  }
 },
 "nbformat": 4,
 "nbformat_minor": 2
}
