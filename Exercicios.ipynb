{
 "cells": [
  {
   "cell_type": "code",
   "execution_count": 64,
   "metadata": {},
   "outputs": [],
   "source": [
    "import random\n",
    "sequencia = open('sequencia.txt', 'w')\n",
    "for n in range(0,50):\n",
    "    valor=[]\n",
    "    valor = random.sample(range(1,50), 11)\n",
    "    for i in range(1):\n",
    "        valor.append(valor[i])    \n",
    "        sequencia.write('%s,%s,%s,%s,%s,%s,%s,%s,%s,%s,%s,%s\\n'% (valor[0], valor[1], valor[2], valor[3], valor[4], valor[5], valor[6], valor[7], valor[8], valor[9], valor[10], valor[11]))\n",
    "sequencia.close()"
   ]
  },
  {
   "cell_type": "code",
   "execution_count": 65,
   "metadata": {},
   "outputs": [],
   "source": [
    "import pandas as pd #importanto pandas\n",
    "arquivo = \"sequencia.txt\" #definindo que a variavel arquivo vai abrir o txt\n",
    "df = pd.read_csv(arquivo,header=None,index_col=False) #lendo arq como dataframe\n",
    "df.head() #mostrando dataframe com a função read\n",
    "\n",
    "resultado = open('resultado.txt', 'w')\n",
    "resultado.write('Media\\tModa\\tMediana\\tVariancia\\tDesvio_Amostral\\tCoeficiente\\n')\n",
    "for n in range(df.shape[0]):\n",
    "    linha = df.iloc[n, :]\n",
    "    unicos = linha.unique()\n",
    "    num_uni = len(unicos)\n",
    "    if num_uni > 6 and num_uni <= 11:\n",
    "        media = linha.mean()\n",
    "        moda = list(linha.mode())\n",
    "        mediana = linha.median()\n",
    "        varAm = linha.var()\n",
    "        desvAm = linha.std()\n",
    "        coef = desvAm / media\n",
    "        resultado.write('%.4f\\t%s\\t%.4f\\t%.4f\\t%.4f\\t%.4f\\n' % (media, moda, mediana, varAm, desvAm, coef))\n",
    "     \n",
    "        \n",
    "resultado.close()\n"
   ]
  }
 ],
 "metadata": {
  "kernelspec": {
   "display_name": "Python 3",
   "language": "python",
   "name": "python3"
  },
  "language_info": {
   "codemirror_mode": {
    "name": "ipython",
    "version": 3
   },
   "file_extension": ".py",
   "mimetype": "text/x-python",
   "name": "python",
   "nbconvert_exporter": "python",
   "pygments_lexer": "ipython3",
   "version": "3.7.6"
  }
 },
 "nbformat": 4,
 "nbformat_minor": 4
}
