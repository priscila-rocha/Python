{
 "cells": [
  {
   "cell_type": "markdown",
   "metadata": {},
   "source": [
    "# Lista de Exercícios 1\n",
    "\n",
    "### Esta é a lista de exercícios práticos onde serão trabalhados conceitos apresentados e exercitados em sala de aula\n",
    "\n",
    "### Aspectos como clareza e organização do código, comentários, raciocínio lógico, coerência no nome de variáveis, classes e funções, utilização das estruturas mais adequadas para a solução dos problemas e o funcionamento adequado serão analisados.\n",
    "\n",
    "### Procure entender exatamente o que se pede antes de iniciar a codificação. Quando se sabe o que é necessário fazer a codificação fica mais fácil, mais eficiente e mais divertida ;-)\n",
    "\n",
    "### Faça o upload do notebook Jupyter completo nomeado da seguinte forma: nome_sobrenome_RA.ipynb.\n",
    "\n",
    "### Por fim, boa sorte e enjoy!"
   ]
  },
  {
   "cell_type": "markdown",
   "metadata": {},
   "source": [
    "<hr>"
   ]
  },
  {
   "cell_type": "markdown",
   "metadata": {},
   "source": [
    "## Exercício 1\n",
    "\n",
    "### Crie uma função com o nome *prime_number* que receberá um número como argumento. \n",
    "### Regras:\n",
    "* O argumento recebido pela função deverá ser inteiro e positivo e maior que zero, caso negativo deverá retornar a mensagem \"invalid argument\"\n",
    "* Caso o argumento recebido seja válido, a função deverá verificar se trata-se de um número primo e caso positivo, retornar a mensagem \"prime number\", caso contrário \"not a prime number\"\n",
    "* O valor máximo que a função calculará é de 5,5 * 10^7. Caso o número passado como argumento seja maior, retornar a mensagem \"argument out of range\""
   ]
  },
  {
   "cell_type": "code",
   "execution_count": null,
   "metadata": {},
   "outputs": [],
   "source": [
    "def prime_number(num):\n",
    "    x=0\n",
    "    if type(num)!=int:\n",
    "        print('Invalid Argument')\n",
    "    elif num<1:  \n",
    "        print('Invalid Argument')\n",
    "    elif num==1:  \n",
    "        print('Not a Prime Number')\n",
    "    elif num>5.5*(10**7):\n",
    "        print('argument out of range')\n",
    "    else:\n",
    "        for i in range(1, num+1):\n",
    "            if num%i==0:\n",
    "               x=x+1\n",
    "        if x==2:\n",
    "             print ('Prime Number')\n",
    "        else:\n",
    "             print ('Not a Prime Number')"
   ]
  },
  {
   "cell_type": "code",
   "execution_count": 248,
   "metadata": {},
   "outputs": [
    {
     "name": "stdout",
     "output_type": "stream",
     "text": [
      "Invalid Argument\n"
     ]
    }
   ],
   "source": [
    "prime_number(-2)"
   ]
  },
  {
   "cell_type": "markdown",
   "metadata": {},
   "source": [
    "<hr>"
   ]
  },
  {
   "cell_type": "markdown",
   "metadata": {},
   "source": [
    "## Exercício 2\n",
    "\n",
    "### Crie uma função com o nome *sum_of_products* que receba duas listas numéricas como argumento.\n",
    "\n",
    "### Regras:\n",
    "* Verificar todo o conteúdo das duas listas e retornar a mensagem de erro \"wrong number\" caso algum elemento não seja um número\n",
    "* A função deverá retornar a soma dos produtos de elementos de mesmo indice de cada lista\n",
    "* Caso uma das listas tenha mais elementos que a outra, considere o valor 1 para o produto com cada elemento da lista com maior número de elementos\n",
    "* Caso as duas listas estejam vazias, retornar -1."
   ]
  },
  {
   "cell_type": "code",
   "execution_count": 166,
   "metadata": {},
   "outputs": [
    {
     "ename": "TypeError",
     "evalue": "'str' object cannot be interpreted as an integer",
     "output_type": "error",
     "traceback": [
      "\u001b[1;31m---------------------------------------------------------------------------\u001b[0m",
      "\u001b[1;31mTypeError\u001b[0m                                 Traceback (most recent call last)",
      "\u001b[1;32m<ipython-input-166-d40213a72e3c>\u001b[0m in \u001b[0;36m<module>\u001b[1;34m\u001b[0m\n\u001b[0;32m      7\u001b[0m     \u001b[0mprint\u001b[0m\u001b[1;33m(\u001b[0m\u001b[1;33m-\u001b[0m\u001b[1;36m1\u001b[0m\u001b[1;33m)\u001b[0m\u001b[1;33m\u001b[0m\u001b[1;33m\u001b[0m\u001b[0m\n\u001b[0;32m      8\u001b[0m \u001b[1;32melse\u001b[0m\u001b[1;33m:\u001b[0m\u001b[1;33m\u001b[0m\u001b[1;33m\u001b[0m\u001b[0m\n\u001b[1;32m----> 9\u001b[1;33m     \u001b[1;32mfor\u001b[0m \u001b[0mx\u001b[0m \u001b[1;32min\u001b[0m \u001b[0mrange\u001b[0m\u001b[1;33m(\u001b[0m\u001b[0ml1\u001b[0m\u001b[1;33m[\u001b[0m\u001b[1;36m0\u001b[0m\u001b[1;33m]\u001b[0m\u001b[1;33m,\u001b[0m \u001b[0mc1\u001b[0m\u001b[1;33m+\u001b[0m\u001b[1;36m1\u001b[0m\u001b[1;33m)\u001b[0m\u001b[1;33m:\u001b[0m\u001b[1;33m\u001b[0m\u001b[1;33m\u001b[0m\u001b[0m\n\u001b[0m\u001b[0;32m     10\u001b[0m         \u001b[1;32mif\u001b[0m \u001b[0mtype\u001b[0m\u001b[1;33m(\u001b[0m\u001b[0ml1\u001b[0m\u001b[1;33m)\u001b[0m\u001b[1;33m!=\u001b[0m\u001b[0mint\u001b[0m\u001b[1;33m:\u001b[0m\u001b[1;33m\u001b[0m\u001b[1;33m\u001b[0m\u001b[0m\n\u001b[0;32m     11\u001b[0m             \u001b[0mprint\u001b[0m\u001b[1;33m(\u001b[0m\u001b[1;34m'wrong number'\u001b[0m\u001b[1;33m)\u001b[0m\u001b[1;33m\u001b[0m\u001b[1;33m\u001b[0m\u001b[0m\n",
      "\u001b[1;31mTypeError\u001b[0m: 'str' object cannot be interpreted as an integer"
     ]
    }
   ],
   "source": [
    "#def sum_of_products(l1,l2):\n",
    "l1=['a',1,2,5]\n",
    "l2=[5,8,4]\n",
    "c1=0\n",
    "c2=0\n",
    "if l1==[] or l2==[]:\n",
    "    print(-1)\n",
    "else:\n",
    "    for x in range(l1[0], c1+1):\n",
    "        if type(l1)!=int:\n",
    "            print('wrong number')\n",
    "        elif:\n",
    "            for x in range(l2[0], c2+1):\n",
    "                if type(l2)!=int:\n",
    "                    print('wrong number')\n",
    "               \n",
    "                   \n",
    "        \n",
    "    \n",
    "    #ltotal=sum(l1[0], c1+1 and l2[0], c2+1)\n",
    "    #print(ltotal)"
   ]
  },
  {
   "cell_type": "code",
   "execution_count": 119,
   "metadata": {},
   "outputs": [
    {
     "data": {
      "text/plain": [
       "list"
      ]
     },
     "execution_count": 119,
     "metadata": {},
     "output_type": "execute_result"
    }
   ],
   "source": [
    "type(l1)"
   ]
  },
  {
   "cell_type": "markdown",
   "metadata": {},
   "source": [
    "<hr>"
   ]
  },
  {
   "cell_type": "markdown",
   "metadata": {},
   "source": [
    "## Exercício 3\n",
    "\n",
    "### Supondo que a população de um país A seja da ordem de 90.000.000 habitantes com uma taxa anual de crescimento de 3% ao ano e que a população de um país B seja aproximadamente de 200.000.000 habitantes com uma taxa anual de cresciemento de 1,5% ao ano\n",
    "\n",
    "### Crie uma função de nome *growth_rate* que calcule e retorne o número de anos necessários para que a população do país A ultrapasse ou iguale a população do país B, mantidas essas taxas de crescimento.\n",
    "\n",
    "### Regras:\n",
    "* A função deverá receber 2 argumentos, population_a e population_b e verificar se são numéricos inteiros e maiores que zero\n",
    "* Caso um dos argumentos não obedeça a condição acima, a função deverá retornar a mensagem \"invalid argument\""
   ]
  },
  {
   "cell_type": "code",
   "execution_count": 1,
   "metadata": {},
   "outputs": [],
   "source": [
    "def growth_rate(population_a, population_b):\n",
    "    a=0\n",
    "    if type(population_a)!=int or type(population_b) !=int:\n",
    "        print('invalid argument')\n",
    "        return\n",
    "    elif population_a>population_b:\n",
    "        print('invalid argument')\n",
    "        return\n",
    "    while population_a<population_b:\n",
    "        x1=(population_a*0.03)+population_a\n",
    "        population_a=x1\n",
    "        x2=(population_b*0.015)+population_b\n",
    "        population_b=x2\n",
    "        a=a+1\n",
    "    print(a)"
   ]
  },
  {
   "cell_type": "code",
   "execution_count": 2,
   "metadata": {},
   "outputs": [
    {
     "name": "stdout",
     "output_type": "stream",
     "text": [
      "212\n"
     ]
    }
   ],
   "source": [
    "growth_rate(9000000, 200000000)"
   ]
  },
  {
   "cell_type": "markdown",
   "metadata": {},
   "source": [
    "<hr>"
   ]
  },
  {
   "cell_type": "markdown",
   "metadata": {},
   "source": [
    "## Exercício 4\n",
    "\n",
    "### Crie uma função chamada *count_list* que receberá uma lista de números como argumento.\n",
    "\n",
    "### A função deverá retornar um *dictionary* com as seguintes informações a respeito dos elementos da lista:\n",
    "* **max** - o maior elemento\n",
    "* **sum** - a soma dos elementos\n",
    "* **occurs** - o número de ocorrências do primeiro elemento da lista\n",
    "* **mean** - a média dos elementos\n",
    "* **near-mean** - o valor mais próximo da média dos elementos\n",
    "* **minus** - a soma dos elementos com valor negativo"
   ]
  },
  {
   "cell_type": "code",
   "execution_count": 197,
   "metadata": {},
   "outputs": [],
   "source": [
    "def count_list(lista):\n",
    "    maximo=max(lista)\n",
    "    soma=sum(lista)\n",
    "    ocorrencia=lista.count(lista[0])\n",
    "    media=sum(lista)/ len(lista)\n",
    "    promed=abs(sum(lista) / len(lista))\n",
    "    negativos=sum(n for n in lista if n<0)\n",
    "    dicionario={'max':maximo, 'sum':soma, 'occurs':ocorrencia, 'mean':media,'near-mean':promed, 'minus':negativos}\n",
    "    print(dicionario)\n"
   ]
  },
  {
   "cell_type": "code",
   "execution_count": 198,
   "metadata": {},
   "outputs": [
    {
     "name": "stdout",
     "output_type": "stream",
     "text": [
      "{'max': 10, 'sum': 26.4, 'occurs': 2, 'mean': 2.6399999999999997, 'near-mean': 2.6399999999999997, 'minus': -9}\n"
     ]
    }
   ],
   "source": [
    "count_list([1, 5, 3, 3, -2, -7, 10, 5.2, 7.2, 1])"
   ]
  }
 ],
 "metadata": {
  "kernelspec": {
   "display_name": "Python 3",
   "language": "python",
   "name": "python3"
  },
  "language_info": {
   "codemirror_mode": {
    "name": "ipython",
    "version": 3
   },
   "file_extension": ".py",
   "mimetype": "text/x-python",
   "name": "python",
   "nbconvert_exporter": "python",
   "pygments_lexer": "ipython3",
   "version": "3.7.6"
  }
 },
 "nbformat": 4,
 "nbformat_minor": 2
}
